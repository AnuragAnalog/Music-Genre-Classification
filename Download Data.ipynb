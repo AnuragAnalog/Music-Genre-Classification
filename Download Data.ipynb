{
 "cells": [
  {
   "cell_type": "code",
   "execution_count": 4,
   "id": "4c0cf9aa",
   "metadata": {},
   "outputs": [],
   "source": [
    "# Required modules\n",
    "\n",
    "import kaggle\n",
    "import numpy as np\n",
    "import pandas as pd\n",
    "\n",
    "from zipfile import ZipFile"
   ]
  },
  {
   "cell_type": "code",
   "execution_count": 3,
   "id": "34187662",
   "metadata": {},
   "outputs": [
    {
     "name": "stdout",
     "output_type": "stream",
     "text": [
      "Warning: Your Kaggle API key is readable by other users on this system! To fix this, you can run 'chmod 600 /home/apeddi/.kaggle/kaggle.json'\n",
      "Downloading gtzan-dataset-music-genre-classification.zip to /scratch/apeddi/Music Genre Classification\n",
      " 99%|██████████████████████████████████████▋| 1.20G/1.21G [00:07<00:00, 226MB/s]\n",
      "100%|███████████████████████████████████████| 1.21G/1.21G [00:07<00:00, 170MB/s]\n"
     ]
    }
   ],
   "source": [
    "# Downloading the data\n",
    "\n",
    "!kaggle datasets download -d andradaolteanu/gtzan-dataset-music-genre-classification"
   ]
  },
  {
   "cell_type": "code",
   "execution_count": 5,
   "id": "cbe5c860",
   "metadata": {},
   "outputs": [],
   "source": [
    "# Extracting the data\n",
    "\n",
    "with ZipFile(\"./gtzan-dataset-music-genre-classification.zip\") as zf:\n",
    "    zf.extractall(\"./\")"
   ]
  }
 ],
 "metadata": {
  "kernelspec": {
   "display_name": "cars",
   "language": "python",
   "name": "cars"
  },
  "language_info": {
   "codemirror_mode": {
    "name": "ipython",
    "version": 3
   },
   "file_extension": ".py",
   "mimetype": "text/x-python",
   "name": "python",
   "nbconvert_exporter": "python",
   "pygments_lexer": "ipython3",
   "version": "3.9.9"
  }
 },
 "nbformat": 4,
 "nbformat_minor": 5
}
